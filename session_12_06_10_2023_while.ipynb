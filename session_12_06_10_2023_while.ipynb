{
 "cells": [
  {
   "cell_type": "markdown",
   "metadata": {},
   "source": [
    "# LOOPS"
   ]
  },
  {
   "cell_type": "markdown",
   "metadata": {},
   "source": [
    "## while"
   ]
  },
  {
   "cell_type": "code",
   "execution_count": null,
   "metadata": {},
   "outputs": [],
   "source": [
    "# çalıştırma. sonsuz döngü\n",
    "while 10 > 5:\n",
    "    print(\"bu döngü sonsuza kadar çalışır\")"
   ]
  },
  {
   "cell_type": "code",
   "execution_count": 9,
   "metadata": {},
   "outputs": [
    {
     "name": "stdout",
     "output_type": "stream",
     "text": [
      "Bu döngü koşul sağlandıkça çalışır. sonra durur.\n",
      "Bu döngü koşul sağlandıkça çalışır. sonra durur.\n",
      "Bu döngü koşul sağlandıkça çalışır. sonra durur.\n",
      "Bu döngü koşul sağlandıkça çalışır. sonra durur.\n",
      "Bu döngü koşul sağlandıkça çalışır. sonra durur.\n"
     ]
    }
   ],
   "source": [
    "x = 5\n",
    "\n",
    "while 10 > x:\n",
    "    print(\"Bu döngü koşul sağlandıkça çalışır. sonra durur.\")\n",
    "    x += 1 # x = x + 1"
   ]
  },
  {
   "cell_type": "code",
   "execution_count": 10,
   "metadata": {},
   "outputs": [
    {
     "name": "stdout",
     "output_type": "stream",
     "text": [
      "1\n",
      "2\n",
      "3\n",
      "4\n",
      "5\n",
      "6\n",
      "7\n",
      "8\n",
      "9\n"
     ]
    }
   ],
   "source": [
    "x = 1\n",
    "\n",
    "while x < 10:\n",
    "    print(x)\n",
    "    x += 1"
   ]
  },
  {
   "cell_type": "code",
   "execution_count": 11,
   "metadata": {},
   "outputs": [
    {
     "data": {
      "text/plain": [
       "10"
      ]
     },
     "execution_count": 11,
     "metadata": {},
     "output_type": "execute_result"
    }
   ],
   "source": [
    "x"
   ]
  },
  {
   "cell_type": "code",
   "execution_count": 12,
   "metadata": {},
   "outputs": [
    {
     "name": "stdout",
     "output_type": "stream",
     "text": [
      "1\n",
      "2\n",
      "3\n",
      "4\n",
      "5\n",
      "6\n",
      "7\n",
      "8\n",
      "9\n"
     ]
    }
   ],
   "source": [
    "x = 1\n",
    "\n",
    "while 10 > x:\n",
    "    print(x)\n",
    "    x += 1"
   ]
  },
  {
   "cell_type": "code",
   "execution_count": 15,
   "metadata": {},
   "outputs": [
    {
     "name": "stdout",
     "output_type": "stream",
     "text": [
      "1\n",
      "2\n",
      "3\n",
      "4\n",
      "5\n",
      "6\n",
      "7\n",
      "8\n",
      "9\n"
     ]
    }
   ],
   "source": [
    "x = 0\n",
    "\n",
    "while x < 9:\n",
    "    x += 1\n",
    "    print(x)\n",
    "    "
   ]
  },
  {
   "cell_type": "code",
   "execution_count": null,
   "metadata": {},
   "outputs": [],
   "source": [
    "# çalıştırma sonsuz dönhü\n",
    "x = 1\n",
    "\n",
    "while x < 10:\n",
    "    print(x)\n",
    "\n",
    "x += 1 # işlem while indent i içerisinde değil. "
   ]
  },
  {
   "cell_type": "code",
   "execution_count": 17,
   "metadata": {},
   "outputs": [],
   "source": [
    "while False:\n",
    "    print(\"sanki çalışmayacak\")"
   ]
  },
  {
   "cell_type": "code",
   "execution_count": null,
   "metadata": {},
   "outputs": [],
   "source": [
    "while 0:\n",
    "    print(\"bu da çalışmaz. \")"
   ]
  },
  {
   "cell_type": "code",
   "execution_count": null,
   "metadata": {},
   "outputs": [],
   "source": [
    "# Çalıştırma. sonsuz döngü.\n",
    "x = 1\n",
    "while True:\n",
    "    print(x, \"sonsuza gider\")\n",
    "    x += 1"
   ]
  },
  {
   "cell_type": "code",
   "execution_count": 20,
   "metadata": {},
   "outputs": [
    {
     "name": "stdout",
     "output_type": "stream",
     "text": [
      "while döngüsü condition False olana kadara çalışır\n"
     ]
    }
   ],
   "source": [
    "y = True\n",
    "\n",
    "while y:\n",
    "    print(\"while döngüsü condition False olana kadara çalışır\")\n",
    "    y = False"
   ]
  },
  {
   "cell_type": "code",
   "execution_count": null,
   "metadata": {},
   "outputs": [],
   "source": [
    "# çalıştırma.\n",
    "y = True\n",
    "\n",
    "while y:\n",
    "    print(\"while döngüsü condition False olana kadara çalışır\")\n",
    "\n",
    "y = False"
   ]
  },
  {
   "cell_type": "code",
   "execution_count": 21,
   "metadata": {},
   "outputs": [
    {
     "name": "stdout",
     "output_type": "stream",
     "text": [
      "1\n",
      "2\n",
      "3\n",
      "4\n",
      "5\n",
      "döngü bitti\n"
     ]
    }
   ],
   "source": [
    "x = 1\n",
    "\n",
    "while x < 6:\n",
    "    print(x)\n",
    "    x += 1\n",
    "\n",
    "print(\"döngü bitti\")"
   ]
  },
  {
   "cell_type": "code",
   "execution_count": 22,
   "metadata": {},
   "outputs": [
    {
     "name": "stdout",
     "output_type": "stream",
     "text": [
      "1\n",
      "döngü bitti\n",
      "2\n",
      "döngü bitti\n",
      "3\n",
      "döngü bitti\n",
      "4\n",
      "döngü bitti\n",
      "5\n",
      "döngü bitti\n"
     ]
    }
   ],
   "source": [
    "x = 1\n",
    "\n",
    "while x < 6:\n",
    "    print(x)\n",
    "    x += 1\n",
    "\n",
    "    print(\"döngü bitti\")"
   ]
  },
  {
   "cell_type": "code",
   "execution_count": 23,
   "metadata": {},
   "outputs": [
    {
     "name": "stdout",
     "output_type": "stream",
     "text": [
      "1\n",
      "4\n",
      "9\n",
      "16\n",
      "25\n"
     ]
    }
   ],
   "source": [
    "x = 1\n",
    "\n",
    "while x <= 5:\n",
    "    print(x ** 2)\n",
    "    x += 1"
   ]
  },
  {
   "cell_type": "code",
   "execution_count": 25,
   "metadata": {},
   "outputs": [
    {
     "name": "stdout",
     "output_type": "stream",
     "text": [
      "doğru sayıyıyı giremedin sanırım. \n",
      "doğru sayıyıyı giremedin sanırım. \n",
      "doğru sayıyıyı giremedin sanırım. \n",
      "doğru sayıyıyı giremedin sanırım. \n"
     ]
    }
   ],
   "source": [
    "# kullanıcıdan sayı isteyin sayı 50 den küçük ise döngü bitsin değilse devam etsin. \n",
    "x = int(input(\"bir sayı girin. 1 ile 100 arasında\"))\n",
    "\n",
    "while x > 50:\n",
    "    x = int(input(\"bir sayı girin\"))\n",
    "    print(\"doğru sayıyıyı giremedin sanırım.\")\n"
   ]
  },
  {
   "cell_type": "code",
   "execution_count": 26,
   "metadata": {},
   "outputs": [
    {
     "name": "stdout",
     "output_type": "stream",
     "text": [
      "Yanlış şifre. Şifrenizi tekrar girin\n",
      "Yanlış şifre. Şifrenizi tekrar girin\n",
      "Yanlış şifre. Şifrenizi tekrar girin\n",
      "işleme yönlendiriliyorsunuz\n"
     ]
    }
   ],
   "source": [
    "# Bankamatik şifre girme işleminin kodlarını yazın. 3 hatalı girme hakkınız var. \n",
    "\n",
    "kayıtlı_sifre = \"1234\"\n",
    "\n",
    "y = True\n",
    "\n",
    "while y:\n",
    "\n",
    "    kullanıcı_girisi = input(\"Lütfen şifrenizi girin\")\n",
    "\n",
    "    if kayıtlı_sifre == kullanıcı_girisi:\n",
    "        print(\"işleme yönlendiriliyorsunuz\")\n",
    "        y = False\n",
    "    else:\n",
    "        print(\"Yanlış şifre. Şifrenizi tekrar girin\")\n"
   ]
  },
  {
   "cell_type": "code",
   "execution_count": null,
   "metadata": {},
   "outputs": [],
   "source": [
    "# Bankamatik şifre girme işleminin kodlarını yazın. 3 hatalı girme hakkınız var. \n",
    "\n",
    "kayıtlı_sifre = \"1234\"\n",
    "\n",
    "count = 0\n",
    "\n",
    "y = True\n",
    "\n",
    "while y:\n",
    "    count += 1\n",
    "    kullanıcı_girisi = input(\"Lütfen şifrenizi girin\")\n",
    "\n",
    "    if kayıtlı_sifre == kullanıcı_girisi:\n",
    "        print(\"işleme yönlendiriliyorsunuz\")\n",
    "        y = False\n",
    "    else:\n",
    "        print(\"Yanlış şifre. Şifrenizi tekrar girin\")\n",
    "    \n",
    "    if count == 3:\n",
    "        y = False\n",
    "        print(\"hakkınız doldu. Kartınız bloke oldu\")\n",
    "    "
   ]
  },
  {
   "cell_type": "code",
   "execution_count": 34,
   "metadata": {},
   "outputs": [
    {
     "name": "stdout",
     "output_type": "stream",
     "text": [
      "işleme yönlendiriliyorsunuz\n"
     ]
    }
   ],
   "source": [
    "# Bankamatik şifre girme işleminin kodlarını yazın. 3 hatalı girme hakkınız var. \n",
    "\n",
    "kayıtlı_sifre = \"1234\"\n",
    "\n",
    "count = 0\n",
    "\n",
    "y = True\n",
    "\n",
    "while y:\n",
    "    count += 1\n",
    "    kullanıcı_girisi = input(\"Lütfen şifrenizi girin\")\n",
    "\n",
    "    if kayıtlı_sifre == kullanıcı_girisi:\n",
    "        print(\"işleme yönlendiriliyorsunuz\")\n",
    "        y = False\n",
    "        break\n",
    "    \n",
    "    if count == 3:\n",
    "        y = False\n",
    "        print(\"hakkınız doldu. Kartınız bloke oldu\")\n",
    "    else:\n",
    "        print(\"Yanlış şifre. Şifrenizi tekrar girin\")"
   ]
  },
  {
   "cell_type": "code",
   "execution_count": 35,
   "metadata": {},
   "outputs": [
    {
     "name": "stdout",
     "output_type": "stream",
     "text": [
      "1\n",
      "9\n",
      "36\n",
      "64\n",
      "121\n",
      "225\n"
     ]
    }
   ],
   "source": [
    "# listenin elemanlarının karesini döndüren kodu yazın. while ile çözün. \n",
    "sayılar_listesi = [1,3,6,8,11,15]\n",
    "\n",
    "x = 0\n",
    "\n",
    "while x < 6:\n",
    "\n",
    "    print(sayılar_listesi[x] ** 2)\n",
    "\n",
    "    x += 1\n"
   ]
  },
  {
   "cell_type": "code",
   "execution_count": 36,
   "metadata": {},
   "outputs": [
    {
     "name": "stdout",
     "output_type": "stream",
     "text": [
      "1\n",
      "9\n",
      "36\n",
      "64\n",
      "121\n",
      "225\n"
     ]
    }
   ],
   "source": [
    "# listenin elemanlarının karesini döndüren kodu yazın. while ile çözün. \n",
    "sayılar_listesi = [1,3,6,8,11,15]\n",
    "\n",
    "x = 0\n",
    "\n",
    "while x < len(sayılar_listesi):\n",
    "\n",
    "    print(sayılar_listesi[x] ** 2)\n",
    "\n",
    "    x += 1"
   ]
  },
  {
   "cell_type": "code",
   "execution_count": 38,
   "metadata": {},
   "outputs": [
    {
     "name": "stdout",
     "output_type": "stream",
     "text": [
      "[1, 9, 36, 64, 121, 225]\n"
     ]
    }
   ],
   "source": [
    "# listenin elemanlarının karesini liste içinde döndüren kodu yazın. while ile çözün. \n",
    "sayılar_listesi = [1,3,6,8,11,15]\n",
    "\n",
    "x = 0\n",
    "result_list = []\n",
    "\n",
    "while x < len(sayılar_listesi):\n",
    "\n",
    "    result_list.append(sayılar_listesi[x] ** 2)\n",
    "\n",
    "    x += 1\n",
    "\n",
    "print(result_list)"
   ]
  },
  {
   "cell_type": "code",
   "execution_count": 27,
   "metadata": {},
   "outputs": [
    {
     "name": "stdout",
     "output_type": "stream",
     "text": [
      "Tek Listesi: [1, 5, 15, 45, 45, 61, 71, 89, 95]\n",
      "Cift Listesi: [2, 30, 36, 48, 52, 56, 62]\n"
     ]
    }
   ],
   "source": [
    "sayılar_listesi = [1,15,2,36,5,89,45,62,52,71,30,56,45,95,61,48]\n",
    "evens = []\n",
    "odds = []\n",
    "i = 0\n",
    "sayılar_listesi.sort()\n",
    "\n",
    "while i < len(sayılar_listesi):\n",
    "    if sayılar_listesi[i] % 2 == 0:\n",
    "        evens.append(sayılar_listesi[i])\n",
    "    else:\n",
    "        odds.append(sayılar_listesi[i])\n",
    "    i += 1\n",
    "\n",
    "print(f\"Tek Listesi: {odds}\")\n",
    "print(f\"Cift Listesi: {evens}\")"
   ]
  },
  {
   "cell_type": "code",
   "execution_count": null,
   "metadata": {},
   "outputs": [],
   "source": [
    "import random\n",
    "\n",
    "random_num = random.randint(0, 100)\n",
    "count = 0\n",
    "\n",
    "while True:\n",
    "    count += 1\n",
    "    guess = int(input(\"Sayiyi tahmin etmeye calisin\"))\n",
    "\n",
    "    if random_num < guess:\n",
    "        print(f\"Girdigin sayi: {guess}. Tahminini azalt\")\n",
    "\n",
    "    elif random_num > guess:\n",
    "        print(f\"Girdigin sayi: {guess}. Tahminini arttir\")\n",
    "\n",
    "    else:\n",
    "        print(print(f\"Tebrikler, bildiniz! Girdigin sayi: {guess}. {count} kerede tahmin ettiniz\"))"
   ]
  },
  {
   "cell_type": "code",
   "execution_count": 34,
   "metadata": {},
   "outputs": [
    {
     "data": {
      "text/plain": [
       "0.32870052053309795"
      ]
     },
     "execution_count": 34,
     "metadata": {},
     "output_type": "execute_result"
    }
   ],
   "source": [
    "import random\n",
    "\n",
    "random.seed(36)\n",
    "random.random()"
   ]
  },
  {
   "cell_type": "code",
   "execution_count": 98,
   "metadata": {},
   "outputs": [
    {
     "name": "stdout",
     "output_type": "stream",
     "text": [
      "Listenin en kücük elemanı: 1\n"
     ]
    }
   ],
   "source": [
    "liste_1 = [4, 5, 6, 9, 85, 1, 23, 65, 47, 32, 91]\n",
    "least = liste_1[5]\n",
    "i = 0\n",
    "\n",
    "while i < len(liste_1):\n",
    "    if liste_1[i] < least:\n",
    "        least = liste_1[i]\n",
    "    i += 1\n",
    "\n",
    "print(\"Listenin en kücük elemanı:\", least)"
   ]
  },
  {
   "cell_type": "code",
   "execution_count": 14,
   "metadata": {},
   "outputs": [
    {
     "name": "stdout",
     "output_type": "stream",
     "text": [
      "T-e-c-h-p-r-o\n"
     ]
    }
   ],
   "source": [
    "x = \"\"\n",
    "for i in \"Techpro\":\n",
    "    x += i + \"-\"\n",
    "print(x.strip(\"-\"))"
   ]
  },
  {
   "cell_type": "code",
   "execution_count": 8,
   "metadata": {},
   "outputs": [
    {
     "data": {
      "text/plain": [
       "'adasdsa'"
      ]
     },
     "execution_count": 8,
     "metadata": {},
     "output_type": "execute_result"
    }
   ],
   "source": [
    "\"sadasdsa\".strip(\"s\")"
   ]
  },
  {
   "cell_type": "code",
   "execution_count": 15,
   "metadata": {},
   "outputs": [
    {
     "ename": "TypeError",
     "evalue": "'bool' object is not iterable",
     "output_type": "error",
     "traceback": [
      "\u001b[1;31m---------------------------------------------------------------------------\u001b[0m",
      "\u001b[1;31mTypeError\u001b[0m                                 Traceback (most recent call last)",
      "\u001b[1;32mc:\\Users\\talha\\Desktop\\VS Code\\TechPro\\Ders Dökümanlari\\session_12_06_10_2023_while.ipynb Cell 31\u001b[0m line \u001b[0;36m1\n\u001b[1;32m----> <a href='vscode-notebook-cell:/c%3A/Users/talha/Desktop/VS%20Code/TechPro/Ders%20D%C3%B6k%C3%BCmanlari/session_12_06_10_2023_while.ipynb#X42sZmlsZQ%3D%3D?line=0'>1</a>\u001b[0m \u001b[39mfor\u001b[39;00m i \u001b[39min\u001b[39;00m \u001b[39mTrue\u001b[39;00m:\n\u001b[0;32m      <a href='vscode-notebook-cell:/c%3A/Users/talha/Desktop/VS%20Code/TechPro/Ders%20D%C3%B6k%C3%BCmanlari/session_12_06_10_2023_while.ipynb#X42sZmlsZQ%3D%3D?line=1'>2</a>\u001b[0m     \u001b[39mprint\u001b[39m(i)\n",
      "\u001b[1;31mTypeError\u001b[0m: 'bool' object is not iterable"
     ]
    }
   ],
   "source": [
    "for i in True:\n",
    "    print(i)"
   ]
  },
  {
   "cell_type": "code",
   "execution_count": 23,
   "metadata": {},
   "outputs": [
    {
     "name": "stdout",
     "output_type": "stream",
     "text": [
      "13 x 1 = 13\n",
      "13 x 2 = 26\n",
      "13 x 3 = 39\n",
      "13 x 4 = 52\n",
      "13 x 5 = 65\n",
      "13 x 6 = 78\n",
      "13 x 7 = 91\n",
      "13 x 8 = 104\n",
      "13 x 9 = 117\n",
      "13 x 10 = 130\n"
     ]
    }
   ],
   "source": [
    "user_input = int(input(\"Bir sayi giriniz\"))\n",
    "for i in range(1, 11):\n",
    "    print(f\"{user_input} x {i} = {user_input * i}\")"
   ]
  },
  {
   "cell_type": "code",
   "execution_count": 11,
   "metadata": {},
   "outputs": [
    {
     "name": "stdout",
     "output_type": "stream",
     "text": [
      "650\n"
     ]
    }
   ],
   "source": [
    "sum = 0\n",
    "for i in range(1, 51):\n",
    "    if i % 2 != 0:\n",
    "        continue\n",
    "    sum += i\n",
    "print(sum)"
   ]
  },
  {
   "cell_type": "code",
   "execution_count": 1,
   "metadata": {},
   "outputs": [
    {
     "data": {
      "text/plain": [
       "650"
      ]
     },
     "execution_count": 1,
     "metadata": {},
     "output_type": "execute_result"
    }
   ],
   "source": [
    "sum(range(2, 51, 2))"
   ]
  },
  {
   "cell_type": "code",
   "execution_count": 17,
   "metadata": {},
   "outputs": [
    {
     "name": "stdout",
     "output_type": "stream",
     "text": [
      "Tekler Listesi: [1, 5, 15, 45, 45, 61, 71, 89, 95]\n",
      "Ciftler Listesi: [2, 30, 36, 48, 52, 56, 62]\n"
     ]
    }
   ],
   "source": [
    "sayılar_listesi = [1,15,2,36,5,89,45,62,52,71,30,56,45,95,61,48]\n",
    "evens = []\n",
    "odds = []\n",
    "\n",
    "for i in sorted(sayılar_listesi):\n",
    "    if i % 2 == 0:\n",
    "        evens.append(i)\n",
    "    else:\n",
    "        odds.append(i)\n",
    "\n",
    "print(f\"Tekler Listesi: {odds}\")\n",
    "print(f\"Ciftler Listesi: {evens}\")"
   ]
  },
  {
   "cell_type": "code",
   "execution_count": null,
   "metadata": {},
   "outputs": [],
   "source": []
  },
  {
   "cell_type": "code",
   "execution_count": null,
   "metadata": {},
   "outputs": [],
   "source": []
  },
  {
   "cell_type": "code",
   "execution_count": null,
   "metadata": {},
   "outputs": [],
   "source": []
  },
  {
   "cell_type": "code",
   "execution_count": null,
   "metadata": {},
   "outputs": [],
   "source": []
  },
  {
   "cell_type": "code",
   "execution_count": null,
   "metadata": {},
   "outputs": [],
   "source": []
  },
  {
   "cell_type": "code",
   "execution_count": null,
   "metadata": {},
   "outputs": [],
   "source": []
  },
  {
   "cell_type": "code",
   "execution_count": null,
   "metadata": {},
   "outputs": [],
   "source": []
  },
  {
   "cell_type": "code",
   "execution_count": null,
   "metadata": {},
   "outputs": [],
   "source": []
  }
 ],
 "metadata": {
  "kernelspec": {
   "display_name": "base",
   "language": "python",
   "name": "python3"
  },
  "language_info": {
   "codemirror_mode": {
    "name": "ipython",
    "version": 3
   },
   "file_extension": ".py",
   "mimetype": "text/x-python",
   "name": "python",
   "nbconvert_exporter": "python",
   "pygments_lexer": "ipython3",
   "version": "3.11.5"
  }
 },
 "nbformat": 4,
 "nbformat_minor": 2
}
